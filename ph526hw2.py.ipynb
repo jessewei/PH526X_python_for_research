{
 "cells": [
  {
   "cell_type": "markdown",
   "metadata": {},
   "source": [
    "# HarvardX PH526X Homework 2"
   ]
  },
  {
   "cell_type": "markdown",
   "metadata": {},
   "source": [
    "## A Tic-Tac-Toe Simulation"
   ]
  },
  {
   "cell_type": "code",
   "execution_count": 166,
   "metadata": {
    "collapsed": true
   },
   "outputs": [],
   "source": [
    "import numpy as np\n",
    "import random\n",
    "import time\n",
    "import matplotlib.pyplot as plt"
   ]
  },
  {
   "cell_type": "markdown",
   "metadata": {},
   "source": [
    "### Exercise 1: Tic-Tac-Toe create_board() function"
   ]
  },
  {
   "cell_type": "code",
   "execution_count": 167,
   "metadata": {
    "collapsed": true
   },
   "outputs": [],
   "source": [
    "def create_board():\n",
    "    \"\"\"\n",
    "    function returns a 3x3 numpy array as the board\n",
    "    \"\"\"\n",
    "    return np.array([[0] * 3 for i in range(3)])"
   ]
  },
  {
   "cell_type": "code",
   "execution_count": 168,
   "metadata": {
    "collapsed": false
   },
   "outputs": [],
   "source": [
    "board = create_board()"
   ]
  },
  {
   "cell_type": "code",
   "execution_count": 169,
   "metadata": {
    "collapsed": false
   },
   "outputs": [],
   "source": [
    "## test if create_board() works\n",
    "# board"
   ]
  },
  {
   "cell_type": "markdown",
   "metadata": {},
   "source": [
    "### Exercise 2: Tic-Tac-Toe place(board, player, position) function"
   ]
  },
  {
   "cell_type": "code",
   "execution_count": 170,
   "metadata": {
    "collapsed": true
   },
   "outputs": [],
   "source": [
    "def place(board, player, position):\n",
    "    \"\"\"\n",
    "    function takes 3 parameters:\n",
    "    board from the create_board() function\n",
    "    player as represented by 1 or 2\n",
    "    position as represented by a tuple of indices\n",
    "    \"\"\"\n",
    "    if board[position] == 0:\n",
    "        board[position] = player\n",
    "    else:\n",
    "        print(\"position already taken!\")"
   ]
  },
  {
   "cell_type": "code",
   "execution_count": 171,
   "metadata": {
    "collapsed": false
   },
   "outputs": [],
   "source": [
    "## test if place(board, player, position) works\n",
    "# place(board, 1, (1,1)); board"
   ]
  },
  {
   "cell_type": "code",
   "execution_count": 172,
   "metadata": {
    "collapsed": false
   },
   "outputs": [],
   "source": [
    "# place(board, 2, (1,1)); board"
   ]
  },
  {
   "cell_type": "markdown",
   "metadata": {},
   "source": [
    "### Exercise 3: possibilities(board) function"
   ]
  },
  {
   "cell_type": "code",
   "execution_count": 173,
   "metadata": {
    "collapsed": true
   },
   "outputs": [],
   "source": [
    "def possibilities(board):\n",
    "    \"\"\"\n",
    "    using numpy.where function to determine\n",
    "    which positions on the board are not taken\n",
    "    returns a list of all the positions untaken\n",
    "    \"\"\"\n",
    "    possibleChoices = zip(*np.where(board == 0))\n",
    "    return possibleChoices"
   ]
  },
  {
   "cell_type": "code",
   "execution_count": 174,
   "metadata": {
    "collapsed": false
   },
   "outputs": [],
   "source": [
    "## test if possibilities(board) works\n",
    "# possibleChoices"
   ]
  },
  {
   "cell_type": "markdown",
   "metadata": {},
   "source": [
    "### Exercise 4: random_place(board, player) function"
   ]
  },
  {
   "cell_type": "code",
   "execution_count": 175,
   "metadata": {
    "collapsed": true
   },
   "outputs": [],
   "source": [
    "def random_place(board, player):\n",
    "    \"\"\"\n",
    "    function places a marker for the player randomly\n",
    "    on any of the available positions on the board\n",
    "    \"\"\"\n",
    "    possibleChoices = list(possibilities(board))\n",
    "    # make sure to remember that the length of possible choices\n",
    "    # must be greater than 0!!!\n",
    "    if len(possibleChoices) > 0:\n",
    "        position = random.choice(possibleChoices)\n",
    "        place(board, player, position)"
   ]
  },
  {
   "cell_type": "code",
   "execution_count": 176,
   "metadata": {
    "collapsed": false
   },
   "outputs": [],
   "source": [
    "## check if random_place(board, player) works\n",
    "# random_place(board, 2); board"
   ]
  },
  {
   "cell_type": "markdown",
   "metadata": {},
   "source": [
    "### Exercise 5: place 3 pieces for each player 1 and 2"
   ]
  },
  {
   "cell_type": "code",
   "execution_count": 177,
   "metadata": {
    "collapsed": true
   },
   "outputs": [],
   "source": [
    "# use random_place(board, player) to place 3 moves for each player\n",
    "board = create_board()\n",
    "for i in range(3):\n",
    "    for player in [1, 2]:\n",
    "        random_place(board, player)"
   ]
  },
  {
   "cell_type": "code",
   "execution_count": 178,
   "metadata": {
    "collapsed": false
   },
   "outputs": [
    {
     "data": {
      "text/plain": [
       "array([[1, 0, 0],\n",
       "       [0, 1, 2],\n",
       "       [1, 2, 2]])"
      ]
     },
     "execution_count": 178,
     "metadata": {},
     "output_type": "execute_result"
    }
   ],
   "source": [
    "board"
   ]
  },
  {
   "cell_type": "markdown",
   "metadata": {},
   "source": [
    "### Exercise 6: function row_win(board, player)"
   ]
  },
  {
   "cell_type": "code",
   "execution_count": 179,
   "metadata": {
    "collapsed": true
   },
   "outputs": [],
   "source": [
    "def row_win(board, player):\n",
    "    \"\"\"\n",
    "    function to check if player occupies a certain row\n",
    "    on the board, and returns True or False\n",
    "    \"\"\"\n",
    "    for row in board:\n",
    "        if (len(set(row)) == 1) and player in row:\n",
    "            return True\n",
    "    return False"
   ]
  },
  {
   "cell_type": "markdown",
   "metadata": {},
   "source": [
    "### Exercise 7: function col_win(board, player)"
   ]
  },
  {
   "cell_type": "code",
   "execution_count": 180,
   "metadata": {
    "collapsed": true
   },
   "outputs": [],
   "source": [
    "def col_win(board, player):\n",
    "    \"\"\"\n",
    "    function to check if player occupies a certain column\n",
    "    on the board, and returns True or False\n",
    "    \"\"\"\n",
    "    for col in zip(*board):\n",
    "        if (len(set(col)) == 1) and player in col:\n",
    "            return True\n",
    "    return False"
   ]
  },
  {
   "cell_type": "markdown",
   "metadata": {},
   "source": [
    "### Exercise 8: function diag_win(board, player)"
   ]
  },
  {
   "cell_type": "code",
   "execution_count": 181,
   "metadata": {
    "collapsed": true
   },
   "outputs": [],
   "source": [
    "def diag_win(board, player):\n",
    "    \"\"\"\n",
    "    function to check if player occupies a certain diagonal\n",
    "    on the board, and returns True or False\n",
    "    \"\"\"\n",
    "    width = len(board[0]) - 1\n",
    "    diag1 = []; diag2 = []\n",
    "    for i in range(width):\n",
    "        diag1.append(board[i, i])\n",
    "        diag2.append(board[i, width - i])\n",
    "    if (len(set(diag1)) == 1 and player in diag1) or \\\n",
    "       (len(set(diag2)) == 1 and player in diag2):\n",
    "        return True\n",
    "    return False"
   ]
  },
  {
   "cell_type": "markdown",
   "metadata": {},
   "source": [
    "### Exercise 9: function evaluate(board)"
   ]
  },
  {
   "cell_type": "code",
   "execution_count": 182,
   "metadata": {
    "collapsed": true
   },
   "outputs": [],
   "source": [
    "def evaluate(board):\n",
    "    \"\"\"\n",
    "    function to check if any of the players has won the game\n",
    "    and returns 1 or 2; if the board is full and no player\n",
    "    has won the game, then returns -1; otherwise returns 0\n",
    "    \"\"\"\n",
    "    winner = 0\n",
    "    for player in [1, 2]:\n",
    "        # Check if `row_win`, `col_win`, or `diag_win` apply.  if so, store `player` as `winner`.\n",
    "        if row_win(board, player) or col_win(board, player) or diag_win(board, player):\n",
    "            winner = player\n",
    "    if np.all(board != 0) and winner == 0:\n",
    "        winner = -1\n",
    "    return winner"
   ]
  },
  {
   "cell_type": "markdown",
   "metadata": {},
   "source": [
    "### Exercise 10: function play_game()"
   ]
  },
  {
   "cell_type": "code",
   "execution_count": 183,
   "metadata": {
    "collapsed": true
   },
   "outputs": [],
   "source": [
    "def play_game():\n",
    "    \"\"\"\n",
    "    function to play the game until a player wins the game\n",
    "    returns the player that wins the game or -1 for tie\n",
    "    \"\"\"\n",
    "    board =create_board()\n",
    "    winner = evaluate(board)\n",
    "    while winner == 0:\n",
    "        for player in [1,2]:\n",
    "            random_place(board, player)\n",
    "            winner = evaluate(board)\n",
    "    return winner"
   ]
  },
  {
   "cell_type": "markdown",
   "metadata": {},
   "source": [
    "### Exercise 11: play_game() 1000 times, use time and matplotlib"
   ]
  },
  {
   "cell_type": "code",
   "execution_count": 190,
   "metadata": {
    "collapsed": false
   },
   "outputs": [
    {
     "name": "stdout",
     "output_type": "stream",
     "text": [
      "time used for 1000 games:  0.39978718757629395\n"
     ]
    },
    {
     "data": {
      "image/png": "[encoded data removed]",
      "text/plain": [
       "<matplotlib.figure.Figure at 0x7ff710c166d8>"
      ]
     },
     "metadata": {},
     "output_type": "display_data"
    }
   ],
   "source": [
    "start_time = time.time()\n",
    "result = []\n",
    "\n",
    "for i in range(1000):\n",
    "    result.append(play_game())\n",
    "\n",
    "end_time = time.time()\n",
    "print(\"time used for 1000 games: \", end_time - start_time)\n",
    "\n",
    "plt.hist(result, bins=5); plt.show()"
   ]
  },
  {
   "cell_type": "markdown",
   "metadata": {},
   "source": [
    "### Exercise 12: function play_strategic_game()"
   ]
  },
  {
   "cell_type": "code",
   "execution_count": 191,
   "metadata": {
    "collapsed": true
   },
   "outputs": [],
   "source": [
    "def play_strategic_game():\n",
    "    \"\"\"\n",
    "    a function that plays Tic-Tac-Toe with tiny improvement\n",
    "    so that player 1 would always place his initial move\n",
    "    on the center of the board at (1, 1)\n",
    "    \"\"\"\n",
    "    board, winner = create_board(), 0\n",
    "    board[1,1] = 1\n",
    "    while winner == 0:\n",
    "        for player in [2,1]:\n",
    "            # use `random_place` to play a game, and store as `board`.\n",
    "            random_place(board, player)\n",
    "            # use `evaluate(board)`, and store as `winner`.\n",
    "            winner = evaluate(board)\n",
    "            if winner != 0:\n",
    "                break\n",
    "    return winner"
   ]
  },
  {
   "cell_type": "markdown",
   "metadata": {},
   "source": [
    "### Exercise 11: play_game() 1000 times, use time and matplotlib"
   ]
  },
  {
   "cell_type": "code",
   "execution_count": 192,
   "metadata": {
    "collapsed": false
   },
   "outputs": [
    {
     "name": "stdout",
     "output_type": "stream",
     "text": [
      "time used for 1000 games:  0.23473310470581055\n"
     ]
    },
    {
     "data": {
      "image/png": "[encoded data removed]",
      "text/plain": [
       "<matplotlib.figure.Figure at 0x7ff7106b6278>"
      ]
     },
     "metadata": {},
     "output_type": "display_data"
    }
   ],
   "source": [
    "start_time = time.time()\n",
    "result = []\n",
    "\n",
    "for i in range(1000):\n",
    "    result.append(play_strategic_game())\n",
    "\n",
    "end_time = time.time()\n",
    "print(\"time used for 1000 games: \", end_time - start_time)\n",
    "\n",
    "plt.hist(result, bins=5); plt.show()"
   ]
  },
  {
   "cell_type": "code",
   "execution_count": null,
   "metadata": {
    "collapsed": true
   },
   "outputs": [],
   "source": []
  }
 ],
 "metadata": {
  "anaconda-cloud": {},
  "kernelspec": {
   "display_name": "Python [conda root]",
   "language": "python",
   "name": "conda-root-py"
  },
  "language_info": {
   "codemirror_mode": {
    "name": "ipython",
    "version": 3
   },
   "file_extension": ".py",
   "mimetype": "text/x-python",
   "name": "python",
   "nbconvert_exporter": "python",
   "pygments_lexer": "ipython3",
   "version": "3.5.2"
  }
 },
 "nbformat": 4,
 "nbformat_minor": 1
}
