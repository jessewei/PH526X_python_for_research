{
 "cells": [
  {
   "cell_type": "markdown",
   "metadata": {},
   "source": [
    "# HarvardX PH526X Homework 1"
   ]
  },
  {
   "cell_type": "markdown",
   "metadata": {},
   "source": [
    "### Exercise 1a: store ascii_letters as alphabet"
   ]
  },
  {
   "cell_type": "code",
   "execution_count": 1,
   "metadata": {
    "collapsed": true
   },
   "outputs": [],
   "source": [
    "import string\n",
    "\n",
    "alphabet = string.ascii_letters"
   ]
  },
  {
   "cell_type": "markdown",
   "metadata": {},
   "source": [
    "### Exercise 1b: create dictionary count_letters and count letter frequency"
   ]
  },
  {
   "cell_type": "code",
   "execution_count": 5,
   "metadata": {
    "collapsed": true
   },
   "outputs": [],
   "source": [
    "sentence = 'Jim quickly realized that the beautiful gowns are expensive'\n",
    "\n",
    "count_letters = {}\n",
    "#write your code here!\n",
    "for letter in sentence:\n",
    "    if letter in alphabet and letter in count_letters:\n",
    "        count_letters[letter] += 1\n",
    "    elif letter in alphabet and not letter in count_letters:\n",
    "        count_letters[letter] = 1"
   ]
  },
  {
   "cell_type": "markdown",
   "metadata": {},
   "source": [
    "### Exercise 1c: function counter(letters)"
   ]
  },
  {
   "cell_type": "code",
   "execution_count": 6,
   "metadata": {
    "collapsed": false
   },
   "outputs": [
    {
     "data": {
      "text/plain": [
       "{'J': 1,\n",
       " 'a': 4,\n",
       " 'b': 1,\n",
       " 'c': 1,\n",
       " 'd': 1,\n",
       " 'e': 8,\n",
       " 'f': 1,\n",
       " 'g': 1,\n",
       " 'h': 2,\n",
       " 'i': 5,\n",
       " 'k': 1,\n",
       " 'l': 3,\n",
       " 'm': 1,\n",
       " 'n': 2,\n",
       " 'o': 1,\n",
       " 'p': 1,\n",
       " 'q': 1,\n",
       " 'r': 2,\n",
       " 's': 2,\n",
       " 't': 4,\n",
       " 'u': 3,\n",
       " 'v': 1,\n",
       " 'w': 1,\n",
       " 'x': 1,\n",
       " 'y': 1,\n",
       " 'z': 1}"
      ]
     },
     "execution_count": 6,
     "metadata": {},
     "output_type": "execute_result"
    }
   ],
   "source": [
    "def counter(input_string):\n",
    "    count_letters = {}\n",
    "    for letter in input_string:\n",
    "        if letter in alphabet and letter in count_letters:\n",
    "            count_letters[letter] += 1\n",
    "        elif letter in alphabet and letter not in count_letters:\n",
    "            count_letters[letter] = 1\n",
    "    return count_letters\n",
    "\n",
    "counter(sentence)"
   ]
  },
  {
   "cell_type": "markdown",
   "metadata": {},
   "source": [
    "### Exercise 1d: Gettysburg Address"
   ]
  },
  {
   "cell_type": "code",
   "execution_count": 9,
   "metadata": {
    "collapsed": false
   },
   "outputs": [
    {
     "name": "stdout",
     "output_type": "stream",
     "text": [
      "{'k': 3, 'I': 3, 't': 124, 'y': 10, 'f': 26, 'W': 2, 'r': 79, 'n': 76, 'b': 13, 'q': 1, 'F': 1, 'l': 42, 'g': 27, 'w': 26, 'h': 80, 'a': 102, 'm': 13, 'T': 2, 'o': 93, 'd': 58, 'c': 31, 'B': 1, 'u': 21, 's': 44, 'G': 1, 'e': 165, 'N': 1, 'i': 65, 'p': 15, 'v': 24}\n"
     ]
    }
   ],
   "source": [
    "address = \"Fourscore and seven years ago our fathers brought forth on this continent a new nation,\\\n",
    "conceived in liberty and dedicated to the proposition that all men are created equal. Now we are\\\n",
    "engaged in a great civil war, testing whether that nation or any nation so conceived and so dedicated\\\n",
    "can long endure. We are met on a great battlefield of that war. We have come to dedicate a portion of\\\n",
    "that field as a final resting-place for those who here gave their lives that that nation might live.\\\n",
    "It is altogether fitting and proper that we should do this. But in a larger sense, we cannot dedicate,\\\n",
    "we cannot consecrate, we cannot hallow this ground. The brave men, living and dead who struggled here\\\n",
    "have consecrated it far above our poor power to add or detract. The world will little note nor long\\\n",
    "remember what we say here, but it can never forget what they did here. It is for us the living rather\\\n",
    "to be dedicated here to the unfinished work which they who fought here have thus far so nobly advanced.\\\n",
    "It is rather for us to be here dedicated to the great task remaining before us--that from these honored\\\n",
    "dead we take increased devotion to that cause for which they gave the last full measure of devotion--that\\\n",
    "we here highly resolve that these dead shall not have died in vain, that this nation under God shall have\\\n",
    "a new birth of freedom, and that government of the people, by the people, for the people shall not perish\\\n",
    "from the earth.\"\n",
    "\n",
    "address_count = counter(address)\n",
    "print(address_count)"
   ]
  },
  {
   "cell_type": "markdown",
   "metadata": {},
   "source": [
    "### Exercise 1e: most frequent letter in the Gettysburg Address"
   ]
  },
  {
   "cell_type": "code",
   "execution_count": 10,
   "metadata": {
    "collapsed": false
   },
   "outputs": [
    {
     "name": "stdout",
     "output_type": "stream",
     "text": [
      "e\n"
     ]
    }
   ],
   "source": [
    "most_frequent_letter = sorted(address_count, key=address_count.get, reverse=True)[0]\n",
    "print(most_frequent_letter)"
   ]
  },
  {
   "cell_type": "markdown",
   "metadata": {},
   "source": [
    "### Exercise 2a: pi"
   ]
  },
  {
   "cell_type": "code",
   "execution_count": 11,
   "metadata": {
    "collapsed": false
   },
   "outputs": [
    {
     "name": "stdout",
     "output_type": "stream",
     "text": [
      "0.7853981633974483\n"
     ]
    }
   ],
   "source": [
    "import math\n",
    "\n",
    "print(math.pi/4)"
   ]
  },
  {
   "cell_type": "markdown",
   "metadata": {},
   "source": [
    "### Exercise 2b: random.uniform()"
   ]
  },
  {
   "cell_type": "code",
   "execution_count": 12,
   "metadata": {
    "collapsed": false
   },
   "outputs": [
    {
     "data": {
      "text/plain": [
       "-0.7312715117751976"
      ]
     },
     "execution_count": 12,
     "metadata": {},
     "output_type": "execute_result"
    }
   ],
   "source": [
    "import random\n",
    "\n",
    "random.seed(1) # This line fixes the value called by your function,\n",
    "               # and is used for answer-checking.\n",
    "\n",
    "def rand():\n",
    "   # define `rand` here!\n",
    "    return random.uniform(-1, 1)\n",
    "rand()"
   ]
  },
  {
   "cell_type": "markdown",
   "metadata": {},
   "source": [
    "### Exercise 2c: function distrance(x, y)"
   ]
  },
  {
   "cell_type": "code",
   "execution_count": 14,
   "metadata": {
    "collapsed": false
   },
   "outputs": [
    {
     "name": "stdout",
     "output_type": "stream",
     "text": [
      "1.4142135623730951\n"
     ]
    }
   ],
   "source": [
    "import math\n",
    "\n",
    "def distance(x, y):\n",
    "   # define your function here!\n",
    "   return math.sqrt((x[0] + y[0])**2 + (x[1] + y[1])**2)\n",
    "   \n",
    "print(distance((0,0),(1,1)))   "
   ]
  },
  {
   "cell_type": "markdown",
   "metadata": {},
   "source": [
    "### Exercise 2c: function in_circle(x, origin)"
   ]
  },
  {
   "cell_type": "code",
   "execution_count": 15,
   "metadata": {
    "collapsed": false
   },
   "outputs": [
    {
     "name": "stdout",
     "output_type": "stream",
     "text": [
      "False\n"
     ]
    }
   ],
   "source": [
    "def in_circle(x, origin = [0]*2):\n",
    "   # Define your function here!\n",
    "   return distance(x, origin) < 1\n",
    "print(in_circle((1,1),(0,0)))"
   ]
  },
  {
   "cell_type": "markdown",
   "metadata": {},
   "source": [
    "### Exercise 2e: count the proportion of random points within the circle"
   ]
  },
  {
   "cell_type": "code",
   "execution_count": 17,
   "metadata": {
    "collapsed": false
   },
   "outputs": [
    {
     "name": "stdout",
     "output_type": "stream",
     "text": [
      "0.7752\n"
     ]
    }
   ],
   "source": [
    "R = 10000\n",
    "x = []\n",
    "inside = []\n",
    "for i in range(R):\n",
    "    point = [rand(), rand()]\n",
    "    x.append(point)\n",
    "    # Enter your code here! #\n",
    "    if in_circle(point, (0,0)):\n",
    "        inside.append(True)\n",
    "    else:\n",
    "        inside.append(False)\n",
    "\n",
    "# Enter your code here! #\n",
    "print(sum(inside)/R)"
   ]
  },
  {
   "cell_type": "markdown",
   "metadata": {},
   "source": [
    "### Exercise 2f"
   ]
  },
  {
   "cell_type": "code",
   "execution_count": 18,
   "metadata": {
    "collapsed": false
   },
   "outputs": [
    {
     "name": "stdout",
     "output_type": "stream",
     "text": [
      "0.010198163397448279\n"
     ]
    }
   ],
   "source": [
    "print(math.pi/4 - sum(inside)/R)"
   ]
  },
  {
   "cell_type": "markdown",
   "metadata": {},
   "source": [
    "### Exercise 3a: function moving_window_average(x, n_neighbors)"
   ]
  },
  {
   "cell_type": "code",
   "execution_count": 20,
   "metadata": {
    "collapsed": false
   },
   "outputs": [
    {
     "name": "stdout",
     "output_type": "stream",
     "text": [
      "[3.3333333333333335, 5.0, 6.0, 3.0, 3.0, 3.6666666666666665]\n"
     ]
    }
   ],
   "source": [
    "random.seed(1)\n",
    "\n",
    "def moving_window_average(x, n_neighbors=1):\n",
    "    n = len(x)\n",
    "    width = n_neighbors*2 + 1\n",
    "    x = [x[0]]*n_neighbors + x + [x[-1]]*n_neighbors\n",
    "    # To complete the function,\n",
    "    # return a list of the mean of values from i to i+width for all values i from 0 to n-1.\n",
    "    smoothed = []\n",
    "    for i in range(0, len(x)-n_neighbors*2):\n",
    "        smoothed.append(sum(x[i:i+width])/(width))\n",
    "    return smoothed\n",
    "\n",
    "x=[0,10,5,3,1,5]\n",
    "print(moving_window_average(x, 1))"
   ]
  },
  {
   "cell_type": "markdown",
   "metadata": {},
   "source": [
    "### Exercise 3b"
   ]
  },
  {
   "cell_type": "code",
   "execution_count": 21,
   "metadata": {
    "collapsed": true
   },
   "outputs": [],
   "source": [
    "random.seed(1) # This line fixes the value called by your function,\n",
    "               # and is used for answer-checking.\n",
    "    \n",
    "# write your code here!\n",
    "x = [random.uniform(0,1) for i in range(1000)]\n",
    "Y = []\n",
    "Y.append(x)\n",
    "for n_neighbors in range(1,10):\n",
    "    Y.append(moving_window_average(x, n_neighbors))"
   ]
  },
  {
   "cell_type": "markdown",
   "metadata": {},
   "source": [
    "### Exercise 3c"
   ]
  },
  {
   "cell_type": "code",
   "execution_count": 22,
   "metadata": {
    "collapsed": false
   },
   "outputs": [
    {
     "name": "stdout",
     "output_type": "stream",
     "text": [
      "[0.9973152343362711, 0.9128390185520854, 0.801645771909397, 0.7137391224212468, 0.6230146948375028, 0.5042284086774562, 0.5071013753101629, 0.4590090496908159, 0.44659549539083265, 0.4433696944090051]\n"
     ]
    }
   ],
   "source": [
    "ranges = []\n",
    "for lst in Y:\n",
    "    ranges.append(max(lst)-min(lst))\n",
    "print(ranges)"
   ]
  },
  {
   "cell_type": "code",
   "execution_count": null,
   "metadata": {
    "collapsed": true
   },
   "outputs": [],
   "source": []
  }
 ],
 "metadata": {
  "anaconda-cloud": {},
  "kernelspec": {
   "display_name": "Python [conda root]",
   "language": "python",
   "name": "conda-root-py"
  },
  "language_info": {
   "codemirror_mode": {
    "name": "ipython",
    "version": 3
   },
   "file_extension": ".py",
   "mimetype": "text/x-python",
   "name": "python",
   "nbconvert_exporter": "python",
   "pygments_lexer": "ipython3",
   "version": "3.5.2"
  }
 },
 "nbformat": 4,
 "nbformat_minor": 1
}
